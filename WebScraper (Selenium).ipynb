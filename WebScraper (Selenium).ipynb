{
 "cells": [
  {
   "cell_type": "code",
   "execution_count": 17,
   "id": "f7e0ac73",
   "metadata": {},
   "outputs": [],
   "source": [
    "from selenium import webdriver\n",
    "\n",
    "driver = webdriver.Chrome()\n",
    "# driver = navegador\n",
    "\n",
    "#another way to do it is to tell python the path to the chromedriver file \n",
    "# servico = Service(r'path_to_file)\n",
    "# driver = webdriver.Chrome(service = servico)\n",
    "\n",
    "# to ensure you will always have the latest chromedriver version, you can download the webdriver each time the code is run\n",
    "# from selenium import webdriver\n",
    "# from selenium.webdriver.chrome.service import Service\n",
    "# from webdriver_manager.chrome import ChromeDriverManager\n",
    "\n",
    "# servico = Service(ChromeDriverManager().install())\n",
    "# driver = webdriver.Chrome(service = Servico)"
   ]
  },
  {
   "cell_type": "code",
   "execution_count": 18,
   "id": "2014b49c",
   "metadata": {},
   "outputs": [],
   "source": [
    "# to ensure you will always have the latest chromedriver version, you can download the webdriver each time the code is run\n",
    "from selenium import webdriver\n",
    "from selenium.webdriver.chrome.service import Service\n",
    "from webdriver_manager.chrome import ChromeDriverManager\n",
    "\n",
    "servico = Service(ChromeDriverManager().install())\n",
    "driver = webdriver.Chrome(service=servico)"
   ]
  },
  {
   "cell_type": "markdown",
   "id": "9fbc619a",
   "metadata": {},
   "source": [
    "## Open Pages from the Internet"
   ]
  },
  {
   "cell_type": "code",
   "execution_count": 20,
   "id": "e68904ca",
   "metadata": {},
   "outputs": [],
   "source": [
    "import os\n",
    "\n",
    "caminho = os.getcwd() \n",
    "arquivo = caminho + r\"\\Pagina Hashtag.html\"\n",
    "# (cwd = current working directory)\n",
    "# print(caminho)\n",
    "# navegador.get(arquivo)\n",
    "\n",
    "driver.get(\"https://www.hashtagtreinamentos.com/\")"
   ]
  },
  {
   "cell_type": "code",
   "execution_count": 5,
   "id": "a955e408",
   "metadata": {},
   "outputs": [],
   "source": [
    "from selenium.webdriver.common.by import By\n",
    "\n",
    "# nevagador.find_element -> 1 item\n",
    "# navegador.find_elements > lista\n",
    "driver.find_element(By.ID, 'firstname').send_keys('Ana Maria')\n",
    "driver.find_element(By.ID, 'email').send_keys('teste@gmail.com')\n",
    "driver.find_element(By.CLASS_NAME, 'botao-formulario').send_keys('teste@gmail.com')"
   ]
  },
  {
   "cell_type": "markdown",
   "id": "c43b9ec4",
   "metadata": {},
   "source": [
    "## Selecionar vários elementos"
   ]
  },
  {
   "cell_type": "code",
   "execution_count": 6,
   "id": "09b82458",
   "metadata": {},
   "outputs": [],
   "source": [
    "lista_elementos = driver.find_elements(By.CLASS_NAME, 'nav-link')\n",
    "\n",
    "#não preciso saber a posição do elemento, posso pegar pelo texto do item\n",
    "for elementos in lista_elementos:\n",
    "    if \"blog\" in elementos.text.lower():\n",
    "        elementos.click()\n",
    "        break"
   ]
  },
  {
   "cell_type": "markdown",
   "id": "fdcc0c10",
   "metadata": {},
   "source": [
    "## Pegando atributos de um elemento\n",
    "##### Ex1: Link do Whatsapp"
   ]
  },
  {
   "cell_type": "code",
   "execution_count": 7,
   "id": "3ddad2e8",
   "metadata": {},
   "outputs": [
    {
     "name": "stdout",
     "output_type": "stream",
     "text": [
      "https://api.whatsapp.com/send?phone=5521998658852&text=Ol%C3%A1%2C%20gostaria%20de%20tirar%20uma%20d%C3%BAvida%20%20sobre%20o%20curso%20online\n"
     ]
    }
   ],
   "source": [
    "texto = driver.find_element(By.XPATH, '/html/body/footer/div/div/div[1]/div[2]/div[5]/div[2]/a').get_attribute('href')\n",
    "print(texto)"
   ]
  },
  {
   "cell_type": "markdown",
   "id": "38d3b0bc",
   "metadata": {},
   "source": [
    "##### Ex2: Imagens dos cursos"
   ]
  },
  {
   "cell_type": "code",
   "execution_count": 8,
   "id": "0b5d03ed",
   "metadata": {},
   "outputs": [
    {
     "name": "stdout",
     "output_type": "stream",
     "text": [
      "https://www.hashtagtreinamentos.com/erros-no-powerpoint\n"
     ]
    }
   ],
   "source": [
    "link = driver.find_element(By.XPATH, '/html/body/section[2]/div/div/div[1]/div[1]/a').get_attribute('href')\n",
    "print(link)"
   ]
  },
  {
   "cell_type": "markdown",
   "id": "bc184f63",
   "metadata": {},
   "source": [
    "### Pegar todos os links das imagens"
   ]
  },
  {
   "cell_type": "code",
   "execution_count": 16,
   "id": "50818677",
   "metadata": {},
   "outputs": [
    {
     "name": "stdout",
     "output_type": "stream",
     "text": [
      "https://www.hashtagtreinamentos.com/category/powerpoint\n",
      "https://www.hashtagtreinamentos.com/category/power-bi\n",
      "https://www.hashtagtreinamentos.com/category/excel-avancado\n",
      "https://www.hashtagtreinamentos.com/category/excel-intermediario\n",
      "https://www.hashtagtreinamentos.com/category/power-bi\n",
      "https://www.hashtagtreinamentos.com/category/python\n",
      "https://www.hashtagtreinamentos.com/category/vba\n",
      "https://www.hashtagtreinamentos.com/category/powerpoint\n",
      "https://www.hashtagtreinamentos.com/category/python\n",
      "https://www.hashtagtreinamentos.com/category/excel-avancado\n",
      "https://www.hashtagtreinamentos.com/category/power-bi\n",
      "https://www.hashtagtreinamentos.com/category/sql\n"
     ]
    }
   ],
   "source": [
    "lista_elementos = driver.find_elements(By.CLASS_NAME,'dados') #lista de figures\n",
    "for elemento in lista_elementos:\n",
    "    try:\n",
    "        link = elemento.find_element(By.TAG_NAME, 'a').get_attribute('href')\n",
    "        print(link)\n",
    "    except:\n",
    "        continue"
   ]
  },
  {
   "cell_type": "markdown",
   "id": "ef592393",
   "metadata": {},
   "source": [
    "### Preenchendo Formulários"
   ]
  },
  {
   "cell_type": "code",
   "execution_count": null,
   "id": "117c2286",
   "metadata": {},
   "outputs": [],
   "source": []
  }
 ],
 "metadata": {
  "kernelspec": {
   "display_name": "geo_env",
   "language": "python",
   "name": "geo_env"
  },
  "language_info": {
   "codemirror_mode": {
    "name": "ipython",
    "version": 3
   },
   "file_extension": ".py",
   "mimetype": "text/x-python",
   "name": "python",
   "nbconvert_exporter": "python",
   "pygments_lexer": "ipython3",
   "version": "3.10.6"
  }
 },
 "nbformat": 4,
 "nbformat_minor": 5
}
